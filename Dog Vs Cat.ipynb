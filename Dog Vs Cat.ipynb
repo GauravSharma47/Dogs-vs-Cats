{
 "cells": [
  {
   "cell_type": "code",
   "execution_count": 1,
   "metadata": {},
   "outputs": [],
   "source": [
    "import os,shutil"
   ]
  },
  {
   "cell_type": "code",
   "execution_count": 2,
   "metadata": {},
   "outputs": [],
   "source": [
    "base_dir=\"C:\\\\Users\\\\Gaurav\\\\DL\\\\dogVScat\\\\\"\n",
    "train_dir=\"C:\\\\Users\\\\Gaurav\\\\DL\\\\dogVScat\\\\train\\\\\""
   ]
  },
  {
   "cell_type": "code",
   "execution_count": 3,
   "metadata": {},
   "outputs": [],
   "source": [
    "val_dir=os.path.join(base_dir,\"val\")\n",
    "test_dir=os.path.join(base_dir,\"test\")"
   ]
  },
  {
   "cell_type": "code",
   "execution_count": 4,
   "metadata": {},
   "outputs": [],
   "source": [
    "train_cat=os.path.join(train_dir,\"cat\")\n",
    "train_dog=os.path.join(train_dir,\"dog\")"
   ]
  },
  {
   "cell_type": "markdown",
   "metadata": {},
   "source": [
    "os.mkdir(val_dir)\n",
    "os.mkdir(train_cat)\n",
    "os.mkdir(train_dog)"
   ]
  },
  {
   "cell_type": "markdown",
   "metadata": {},
   "source": [
    "fnames=[\"cat.{}.jpg\".format(i) for i in range(5000)]\n",
    "fnames.extend([\"dog.{}.jpg\".format(i) for i in range(5000)])\n",
    "for fname in fnames:\n",
    "    src=os.path.join(train_dir+\"\\\\train\",fname)\n",
    "    dest=os.path.join(val_dir,fname)\n",
    "    shutil.move(src,dest)"
   ]
  },
  {
   "cell_type": "code",
   "execution_count": null,
   "metadata": {},
   "outputs": [],
   "source": []
  },
  {
   "cell_type": "code",
   "execution_count": 4,
   "metadata": {},
   "outputs": [
    {
     "name": "stderr",
     "output_type": "stream",
     "text": [
      "Using TensorFlow backend.\n"
     ]
    }
   ],
   "source": [
    "from keras import layers,models\n",
    "model=models.Sequential()\n",
    "model.add(layers.Conv2D(32,(3,3),input_shape=(150,150,3),activation='relu'))\n",
    "model.add(layers.MaxPooling2D((2,2)))\n",
    "model.add(layers.Conv2D(64,(3,3),activation='relu'))\n",
    "model.add(layers.MaxPooling2D((2,2)))\n",
    "model.add(layers.Conv2D(128,(3,3),activation='relu'))\n",
    "model.add(layers.MaxPooling2D((2,2)))\n",
    "model.add(layers.Conv2D(128,(3,3),activation='relu'))\n",
    "model.add(layers.MaxPooling2D((2,2)))\n",
    "model.add(layers.Flatten())\n",
    "model.add(layers.Dense(512,activation='relu'))\n",
    "model.add(layers.Dense(1,activation='sigmoid'))"
   ]
  },
  {
   "cell_type": "code",
   "execution_count": 5,
   "metadata": {},
   "outputs": [
    {
     "name": "stdout",
     "output_type": "stream",
     "text": [
      "Model: \"sequential_1\"\n",
      "_________________________________________________________________\n",
      "Layer (type)                 Output Shape              Param #   \n",
      "=================================================================\n",
      "conv2d_1 (Conv2D)            (None, 148, 148, 32)      896       \n",
      "_________________________________________________________________\n",
      "max_pooling2d_1 (MaxPooling2 (None, 74, 74, 32)        0         \n",
      "_________________________________________________________________\n",
      "conv2d_2 (Conv2D)            (None, 72, 72, 64)        18496     \n",
      "_________________________________________________________________\n",
      "max_pooling2d_2 (MaxPooling2 (None, 36, 36, 64)        0         \n",
      "_________________________________________________________________\n",
      "conv2d_3 (Conv2D)            (None, 34, 34, 128)       73856     \n",
      "_________________________________________________________________\n",
      "max_pooling2d_3 (MaxPooling2 (None, 17, 17, 128)       0         \n",
      "_________________________________________________________________\n",
      "conv2d_4 (Conv2D)            (None, 15, 15, 128)       147584    \n",
      "_________________________________________________________________\n",
      "max_pooling2d_4 (MaxPooling2 (None, 7, 7, 128)         0         \n",
      "_________________________________________________________________\n",
      "flatten_1 (Flatten)          (None, 6272)              0         \n",
      "_________________________________________________________________\n",
      "dense_1 (Dense)              (None, 512)               3211776   \n",
      "_________________________________________________________________\n",
      "dense_2 (Dense)              (None, 1)                 513       \n",
      "=================================================================\n",
      "Total params: 3,453,121\n",
      "Trainable params: 3,453,121\n",
      "Non-trainable params: 0\n",
      "_________________________________________________________________\n"
     ]
    }
   ],
   "source": [
    "model.summary()"
   ]
  },
  {
   "cell_type": "code",
   "execution_count": 6,
   "metadata": {},
   "outputs": [],
   "source": [
    "model.compile(optimizer='rmsprop',loss='binary_crossentropy',metrics=['accuracy'])"
   ]
  },
  {
   "cell_type": "code",
   "execution_count": 8,
   "metadata": {},
   "outputs": [
    {
     "name": "stdout",
     "output_type": "stream",
     "text": [
      "Found 2000 images belonging to 2 classes.\n",
      "Found 1000 images belonging to 2 classes.\n"
     ]
    }
   ],
   "source": [
    "from keras.preprocessing.image import ImageDataGenerator\n",
    "train_datagen=ImageDataGenerator(rescale=1./255)\n",
    "test_datagen=ImageDataGenerator(rescale=1./255)\n",
    "train_generator=train_datagen.flow_from_directory(train_dir,target_size=(150,150),batch_size=30,class_mode='binary')\n",
    "validation_generator=test_datagen.flow_from_directory(val_dir,target_size=(150,150),batch_size=30,class_mode='binary')"
   ]
  },
  {
   "cell_type": "code",
   "execution_count": 9,
   "metadata": {
    "scrolled": true
   },
   "outputs": [
    {
     "name": "stdout",
     "output_type": "stream",
     "text": [
      "Epoch 1/30\n",
      "100/100 [==============================] - 134s 1s/step - loss: 0.7517 - accuracy: 0.5204 - val_loss: 0.7052 - val_accuracy: 0.5264\n",
      "Epoch 2/30\n",
      "100/100 [==============================] - 127s 1s/step - loss: 0.6831 - accuracy: 0.5785 - val_loss: 0.7134 - val_accuracy: 0.5115\n",
      "Epoch 3/30\n",
      "100/100 [==============================] - 125s 1s/step - loss: 0.6423 - accuracy: 0.6515 - val_loss: 0.6187 - val_accuracy: 0.6308\n",
      "Epoch 4/30\n",
      "100/100 [==============================] - 129s 1s/step - loss: 0.5680 - accuracy: 0.7060 - val_loss: 0.5673 - val_accuracy: 0.5750\n",
      "Epoch 5/30\n",
      "100/100 [==============================] - 129s 1s/step - loss: 0.5022 - accuracy: 0.7609 - val_loss: 0.6519 - val_accuracy: 0.6493\n",
      "Epoch 6/30\n",
      "100/100 [==============================] - 124s 1s/step - loss: 0.4315 - accuracy: 0.7977 - val_loss: 0.6614 - val_accuracy: 0.7007\n",
      "Epoch 7/30\n",
      "100/100 [==============================] - 125s 1s/step - loss: 0.3325 - accuracy: 0.8522 - val_loss: 0.3171 - val_accuracy: 0.7240\n",
      "Epoch 8/30\n",
      "100/100 [==============================] - 134s 1s/step - loss: 0.2651 - accuracy: 0.8896 - val_loss: 0.7756 - val_accuracy: 0.7351\n",
      "Epoch 9/30\n",
      "100/100 [==============================] - 126s 1s/step - loss: 0.1722 - accuracy: 0.9321 - val_loss: 0.4804 - val_accuracy: 0.7116\n",
      "Epoch 10/30\n",
      "100/100 [==============================] - 125s 1s/step - loss: 0.1199 - accuracy: 0.9554 - val_loss: 1.4003 - val_accuracy: 0.7115\n",
      "Epoch 11/30\n",
      "100/100 [==============================] - 129s 1s/step - loss: 0.0997 - accuracy: 0.9689 - val_loss: 0.9243 - val_accuracy: 0.7103\n",
      "Epoch 12/30\n",
      "100/100 [==============================] - 125s 1s/step - loss: 0.0794 - accuracy: 0.9718 - val_loss: 0.6459 - val_accuracy: 0.7122\n",
      "Epoch 13/30\n",
      "100/100 [==============================] - 126s 1s/step - loss: 0.0501 - accuracy: 0.9826 - val_loss: 1.9530 - val_accuracy: 0.7514\n",
      "Epoch 14/30\n",
      "100/100 [==============================] - 126s 1s/step - loss: 0.0693 - accuracy: 0.9803 - val_loss: 1.9218 - val_accuracy: 0.7318\n",
      "Epoch 15/30\n",
      "100/100 [==============================] - 125s 1s/step - loss: 0.0508 - accuracy: 0.9916 - val_loss: 1.3292 - val_accuracy: 0.7075\n",
      "Epoch 16/30\n",
      "100/100 [==============================] - 134s 1s/step - loss: 0.0427 - accuracy: 0.9889 - val_loss: 1.8836 - val_accuracy: 0.6973\n",
      "Epoch 17/30\n",
      "100/100 [==============================] - 156s 2s/step - loss: 0.0588 - accuracy: 0.9886 - val_loss: 1.0026 - val_accuracy: 0.7219\n",
      "Epoch 18/30\n",
      "100/100 [==============================] - 143s 1s/step - loss: 0.0876 - accuracy: 0.9909 - val_loss: 1.2899 - val_accuracy: 0.7128\n",
      "Epoch 19/30\n",
      "100/100 [==============================] - 134s 1s/step - loss: 0.0538 - accuracy: 0.9936 - val_loss: 4.2557 - val_accuracy: 0.7135\n",
      "Epoch 20/30\n",
      "100/100 [==============================] - 149s 1s/step - loss: 0.0480 - accuracy: 0.9903 - val_loss: 2.0078 - val_accuracy: 0.7342\n",
      "Epoch 21/30\n",
      "100/100 [==============================] - 153s 2s/step - loss: 0.0500 - accuracy: 0.9886 - val_loss: 2.4140 - val_accuracy: 0.6919\n",
      "Epoch 22/30\n",
      "100/100 [==============================] - 157s 2s/step - loss: 0.0356 - accuracy: 0.9913 - val_loss: 4.0687 - val_accuracy: 0.7233\n",
      "Epoch 23/30\n",
      "100/100 [==============================] - 142s 1s/step - loss: 0.0342 - accuracy: 0.9930 - val_loss: 3.9870 - val_accuracy: 0.6797\n",
      "Epoch 24/30\n",
      "100/100 [==============================] - 137s 1s/step - loss: 0.0364 - accuracy: 0.9896 - val_loss: 2.5022 - val_accuracy: 0.7192\n",
      "Epoch 25/30\n",
      "100/100 [==============================] - 128s 1s/step - loss: 0.0450 - accuracy: 0.9896 - val_loss: 4.9911 - val_accuracy: 0.6953\n",
      "Epoch 26/30\n",
      "100/100 [==============================] - 126s 1s/step - loss: 0.0463 - accuracy: 0.9916 - val_loss: 4.0122 - val_accuracy: 0.7233\n",
      "Epoch 27/30\n",
      "100/100 [==============================] - 128s 1s/step - loss: 0.0388 - accuracy: 0.9919 - val_loss: 6.9887 - val_accuracy: 0.7020\n",
      "Epoch 28/30\n",
      "100/100 [==============================] - 126s 1s/step - loss: 0.0318 - accuracy: 0.9910 - val_loss: 4.1709 - val_accuracy: 0.6973\n",
      "Epoch 29/30\n",
      "100/100 [==============================] - 126s 1s/step - loss: 0.0255 - accuracy: 0.9960 - val_loss: 5.5242 - val_accuracy: 0.7209\n",
      "Epoch 30/30\n",
      "100/100 [==============================] - 125s 1s/step - loss: 0.0530 - accuracy: 0.9930 - val_loss: 3.2727 - val_accuracy: 0.6712\n"
     ]
    }
   ],
   "source": [
    "history=model.fit_generator(train_generator,epochs=30,steps_per_epoch=100,\n",
    "                            validation_data=validation_generator,validation_steps=50)"
   ]
  },
  {
   "cell_type": "code",
   "execution_count": 10,
   "metadata": {},
   "outputs": [],
   "source": [
    "model.save(\"cat_vs_dog_1.h5\")"
   ]
  },
  {
   "cell_type": "markdown",
   "metadata": {},
   "source": [
    "from keras.models import load_model\n",
    "history=load_model(\"cat_vs_dog_1.h5\")"
   ]
  },
  {
   "cell_type": "code",
   "execution_count": 11,
   "metadata": {},
   "outputs": [
    {
     "data": {
      "image/png": "[encoded data removed]",
      "text/plain": [
       "<Figure size 432x288 with 1 Axes>"
      ]
     },
     "metadata": {
      "needs_background": "light"
     },
     "output_type": "display_data"
    }
   ],
   "source": [
    "import matplotlib.pyplot as plt\n",
    "acc=history.history['accuracy']\n",
    "val_acc=history.history['val_accuracy']\n",
    "\n",
    "epochs=range(1,31)\n",
    "plt.plot(epochs,acc,label='Train Accuracy')\n",
    "plt.plot(epochs,val_acc,label='Validation Accuracy')\n",
    "plt.show()"
   ]
  },
  {
   "cell_type": "code",
   "execution_count": 12,
   "metadata": {},
   "outputs": [
    {
     "data": {
      "image/png": "[encoded data removed]",
      "text/plain": [
       "<Figure size 432x288 with 1 Axes>"
      ]
     },
     "metadata": {
      "needs_background": "light"
     },
     "output_type": "display_data"
    }
   ],
   "source": [
    "loss=history.history['loss']\n",
    "val_loss=history.history['val_loss']\n",
    "\n",
    "epochs=range(1,31)\n",
    "plt.plot(epochs,loss,label='Train loss')\n",
    "plt.plot(epochs,val_loss,label='Validation loss')\n",
    "plt.legend()\n",
    "plt.show()"
   ]
  },
  {
   "cell_type": "markdown",
   "metadata": {},
   "source": [
    "DATA AUGMENTATION"
   ]
  },
  {
   "cell_type": "code",
   "execution_count": 13,
   "metadata": {},
   "outputs": [],
   "source": [
    "from keras import layers,models\n",
    "model=models.Sequential()\n",
    "model.add(layers.Conv2D(32,(3,3),input_shape=(150,150,3),activation='relu'))\n",
    "model.add(layers.MaxPooling2D((2,2)))\n",
    "model.add(layers.Conv2D(64,(3,3),activation='relu'))\n",
    "model.add(layers.MaxPooling2D((2,2)))\n",
    "model.add(layers.Conv2D(128,(3,3),activation='relu'))\n",
    "model.add(layers.MaxPooling2D((2,2)))\n",
    "model.add(layers.Conv2D(128,(3,3),activation='relu'))\n",
    "model.add(layers.MaxPooling2D((2,2)))\n",
    "model.add(layers.Flatten())\n",
    "model.add(layers.Dropout(0.5))\n",
    "model.add(layers.Dense(512,activation='relu'))\n",
    "model.add(layers.Dense(1,activation='sigmoid'))"
   ]
  },
  {
   "cell_type": "code",
   "execution_count": 14,
   "metadata": {},
   "outputs": [],
   "source": [
    "train_datagen=ImageDataGenerator(rescale=1./255,\n",
    "                            rotation_range=40,\n",
    "                           width_shift_range=0.2,\n",
    "                           height_shift_range=0.2,\n",
    "                          shear_range=0.2,\n",
    "                          zoom_range=0.2,\n",
    "                          horizontal_flip=True)"
   ]
  },
  {
   "cell_type": "code",
   "execution_count": 15,
   "metadata": {},
   "outputs": [],
   "source": [
    "test_datagen=ImageDataGenerator(rescale=1./255)"
   ]
  },
  {
   "cell_type": "code",
   "execution_count": 16,
   "metadata": {},
   "outputs": [
    {
     "name": "stdout",
     "output_type": "stream",
     "text": [
      "Found 2000 images belonging to 2 classes.\n",
      "Found 1000 images belonging to 2 classes.\n"
     ]
    }
   ],
   "source": [
    "train_generator=train_datagen.flow_from_directory(train_dir,target_size=(150,150),batch_size=32,class_mode='binary')\n",
    "test_generator=test_datagen.flow_from_directory(val_dir,target_size=(150,150),batch_size=32,class_mode='binary')"
   ]
  },
  {
   "cell_type": "code",
   "execution_count": 17,
   "metadata": {},
   "outputs": [],
   "source": [
    "model.compile(optimizer='rmsprop',loss='binary_crossentropy',metrics=['accuracy'])"
   ]
  },
  {
   "cell_type": "code",
   "execution_count": 18,
   "metadata": {
    "scrolled": true
   },
   "outputs": [
    {
     "name": "stdout",
     "output_type": "stream",
     "text": [
      "Epoch 1/100\n",
      "100/100 [==============================] - 146s 1s/step - loss: 0.7543 - accuracy: 0.5148 - val_loss: 0.6898 - val_accuracy: 0.5020\n",
      "Epoch 2/100\n",
      "100/100 [==============================] - 142s 1s/step - loss: 0.6897 - accuracy: 0.5546 - val_loss: 0.6676 - val_accuracy: 0.5642\n",
      "Epoch 3/100\n",
      "100/100 [==============================] - 141s 1s/step - loss: 0.6893 - accuracy: 0.5587 - val_loss: 0.6862 - val_accuracy: 0.5466\n",
      "Epoch 4/100\n",
      "100/100 [==============================] - 142s 1s/step - loss: 0.6846 - accuracy: 0.5977 - val_loss: 0.6947 - val_accuracy: 0.6514\n",
      "Epoch 5/100\n",
      "100/100 [==============================] - 141s 1s/step - loss: 0.6548 - accuracy: 0.6259 - val_loss: 0.6189 - val_accuracy: 0.6432\n",
      "Epoch 6/100\n",
      "100/100 [==============================] - 151s 2s/step - loss: 0.6435 - accuracy: 0.6372 - val_loss: 0.7409 - val_accuracy: 0.6845\n",
      "Epoch 7/100\n",
      "100/100 [==============================] - 154s 2s/step - loss: 0.6363 - accuracy: 0.6480 - val_loss: 0.5477 - val_accuracy: 0.6644\n",
      "Epoch 8/100\n",
      "100/100 [==============================] - 153s 2s/step - loss: 0.6284 - accuracy: 0.6667 - val_loss: 0.7079 - val_accuracy: 0.6851\n",
      "Epoch 9/100\n",
      "100/100 [==============================] - 151s 2s/step - loss: 0.6129 - accuracy: 0.6630 - val_loss: 0.4831 - val_accuracy: 0.6863\n",
      "Epoch 10/100\n",
      "100/100 [==============================] - 148s 1s/step - loss: 0.6202 - accuracy: 0.6559 - val_loss: 0.6552 - val_accuracy: 0.7291\n",
      "Epoch 11/100\n",
      "100/100 [==============================] - 153s 2s/step - loss: 0.6232 - accuracy: 0.6739 - val_loss: 0.4935 - val_accuracy: 0.7479\n",
      "Epoch 12/100\n",
      "100/100 [==============================] - 160s 2s/step - loss: 0.5911 - accuracy: 0.6916 - val_loss: 0.5260 - val_accuracy: 0.7236\n",
      "Epoch 13/100\n",
      "100/100 [==============================] - 161s 2s/step - loss: 0.5920 - accuracy: 0.6903 - val_loss: 0.6495 - val_accuracy: 0.7116\n",
      "Epoch 14/100\n",
      "100/100 [==============================] - 169s 2s/step - loss: 0.5852 - accuracy: 0.6903 - val_loss: 0.6769 - val_accuracy: 0.6959\n",
      "Epoch 15/100\n",
      "100/100 [==============================] - 147s 1s/step - loss: 0.5874 - accuracy: 0.6932 - val_loss: 0.4455 - val_accuracy: 0.7329\n",
      "Epoch 16/100\n",
      "100/100 [==============================] - 148s 1s/step - loss: 0.5853 - accuracy: 0.7013 - val_loss: 0.5510 - val_accuracy: 0.7243\n",
      "Epoch 17/100\n",
      "100/100 [==============================] - 149s 1s/step - loss: 0.5706 - accuracy: 0.7090 - val_loss: 0.3939 - val_accuracy: 0.7295\n",
      "Epoch 18/100\n",
      "100/100 [==============================] - 154s 2s/step - loss: 0.5699 - accuracy: 0.7033 - val_loss: 0.4277 - val_accuracy: 0.7405\n",
      "Epoch 19/100\n",
      "100/100 [==============================] - 145s 1s/step - loss: 0.5579 - accuracy: 0.7233 - val_loss: 0.4894 - val_accuracy: 0.7561\n",
      "Epoch 20/100\n",
      "100/100 [==============================] - 141s 1s/step - loss: 0.5597 - accuracy: 0.7146 - val_loss: 0.5129 - val_accuracy: 0.7212\n",
      "Epoch 21/100\n",
      "100/100 [==============================] - 143s 1s/step - loss: 0.5511 - accuracy: 0.7286 - val_loss: 0.4220 - val_accuracy: 0.7824\n",
      "Epoch 22/100\n",
      "100/100 [==============================] - 145s 1s/step - loss: 0.5386 - accuracy: 0.7292 - val_loss: 0.9944 - val_accuracy: 0.6822\n",
      "Epoch 23/100\n",
      "100/100 [==============================] - 145s 1s/step - loss: 0.5387 - accuracy: 0.7383 - val_loss: 0.4549 - val_accuracy: 0.7872\n",
      "Epoch 24/100\n",
      "100/100 [==============================] - 141s 1s/step - loss: 0.5271 - accuracy: 0.7302 - val_loss: 0.5754 - val_accuracy: 0.7877\n",
      "Epoch 25/100\n",
      "100/100 [==============================] - 140s 1s/step - loss: 0.5319 - accuracy: 0.7412 - val_loss: 0.7798 - val_accuracy: 0.7547\n",
      "Epoch 26/100\n",
      "100/100 [==============================] - 140s 1s/step - loss: 0.5347 - accuracy: 0.7431 - val_loss: 0.5682 - val_accuracy: 0.7521\n",
      "Epoch 27/100\n",
      "100/100 [==============================] - 141s 1s/step - loss: 0.5266 - accuracy: 0.7371 - val_loss: 0.5700 - val_accuracy: 0.7514\n",
      "Epoch 28/100\n",
      "100/100 [==============================] - 141s 1s/step - loss: 0.5239 - accuracy: 0.7415 - val_loss: 0.4652 - val_accuracy: 0.7336\n",
      "Epoch 29/100\n",
      "100/100 [==============================] - 141s 1s/step - loss: 0.5068 - accuracy: 0.7597 - val_loss: 0.4414 - val_accuracy: 0.7764\n",
      "Epoch 30/100\n",
      "100/100 [==============================] - 140s 1s/step - loss: 0.5037 - accuracy: 0.7648 - val_loss: 0.6039 - val_accuracy: 0.7630\n",
      "Epoch 31/100\n",
      "100/100 [==============================] - 140s 1s/step - loss: 0.5019 - accuracy: 0.7598 - val_loss: 0.4048 - val_accuracy: 0.7872\n",
      "Epoch 32/100\n",
      "100/100 [==============================] - 141s 1s/step - loss: 0.5031 - accuracy: 0.7600 - val_loss: 0.6947 - val_accuracy: 0.7753\n",
      "Epoch 33/100\n",
      "100/100 [==============================] - 141s 1s/step - loss: 0.4943 - accuracy: 0.7604 - val_loss: 0.3841 - val_accuracy: 0.7946\n",
      "Epoch 34/100\n",
      "100/100 [==============================] - 138s 1s/step - loss: 0.5017 - accuracy: 0.7626 - val_loss: 0.6364 - val_accuracy: 0.7760\n",
      "Epoch 35/100\n",
      "100/100 [==============================] - 141s 1s/step - loss: 0.4859 - accuracy: 0.7759 - val_loss: 0.5437 - val_accuracy: 0.8014\n",
      "Epoch 36/100\n",
      "100/100 [==============================] - 143s 1s/step - loss: 0.4881 - accuracy: 0.7714 - val_loss: 0.4805 - val_accuracy: 0.7885\n",
      "Epoch 37/100\n",
      "100/100 [==============================] - 141s 1s/step - loss: 0.4887 - accuracy: 0.7692 - val_loss: 0.3614 - val_accuracy: 0.8295\n",
      "Epoch 38/100\n",
      "100/100 [==============================] - 139s 1s/step - loss: 0.5013 - accuracy: 0.7665 - val_loss: 0.5165 - val_accuracy: 0.7743\n",
      "Epoch 39/100\n",
      "100/100 [==============================] - 142s 1s/step - loss: 0.4803 - accuracy: 0.7742 - val_loss: 0.3824 - val_accuracy: 0.7911\n",
      "Epoch 40/100\n",
      "100/100 [==============================] - 142s 1s/step - loss: 0.4959 - accuracy: 0.7708 - val_loss: 0.3626 - val_accuracy: 0.8095\n",
      "Epoch 41/100\n",
      "100/100 [==============================] - 141s 1s/step - loss: 0.4735 - accuracy: 0.7742 - val_loss: 0.4447 - val_accuracy: 0.8068\n",
      "Epoch 42/100\n",
      "100/100 [==============================] - 141s 1s/step - loss: 0.4747 - accuracy: 0.7768 - val_loss: 0.4103 - val_accuracy: 0.7851\n",
      "Epoch 43/100\n",
      "100/100 [==============================] - 142s 1s/step - loss: 0.4949 - accuracy: 0.7601 - val_loss: 0.4462 - val_accuracy: 0.7911\n",
      "Epoch 44/100\n",
      "100/100 [==============================] - 141s 1s/step - loss: 0.4692 - accuracy: 0.7831 - val_loss: 0.6225 - val_accuracy: 0.8014\n",
      "Epoch 45/100\n",
      "100/100 [==============================] - 141s 1s/step - loss: 0.4585 - accuracy: 0.7827 - val_loss: 0.5066 - val_accuracy: 0.8123\n",
      "Epoch 46/100\n",
      "100/100 [==============================] - 142s 1s/step - loss: 0.4876 - accuracy: 0.7724 - val_loss: 0.4347 - val_accuracy: 0.8095\n",
      "Epoch 47/100\n",
      "100/100 [==============================] - 140s 1s/step - loss: 0.4849 - accuracy: 0.7803 - val_loss: 0.7732 - val_accuracy: 0.7760\n",
      "Epoch 48/100\n",
      "100/100 [==============================] - 142s 1s/step - loss: 0.4519 - accuracy: 0.8003 - val_loss: 0.6536 - val_accuracy: 0.7993\n",
      "Epoch 49/100\n",
      "100/100 [==============================] - 142s 1s/step - loss: 0.4625 - accuracy: 0.7923 - val_loss: 0.5835 - val_accuracy: 0.7966\n",
      "Epoch 50/100\n",
      "100/100 [==============================] - 149s 1s/step - loss: 0.4586 - accuracy: 0.7971 - val_loss: 0.6536 - val_accuracy: 0.6757\n",
      "Epoch 51/100\n",
      " 85/100 [========================>.....] - ETA: 18s - loss: 0.4619 - accuracy: 0.7918"
     ]
    },
    {
     "ename": "KeyboardInterrupt",
     "evalue": "",
     "output_type": "error",
     "traceback": [
      "\u001b[1;31m---------------------------------------------------------------------------\u001b[0m",
      "\u001b[1;31mKeyboardInterrupt\u001b[0m                         Traceback (most recent call last)",
      "\u001b[1;32m<ipython-input-18-7d35f588a55e>\u001b[0m in \u001b[0;36m<module>\u001b[1;34m\u001b[0m\n\u001b[0;32m      1\u001b[0m history = model.fit_generator(train_generator,steps_per_epoch=100,epochs=100,\n\u001b[1;32m----> 2\u001b[1;33m                               validation_data=validation_generator,validation_steps=50)\n\u001b[0m",
      "\u001b[1;32m~\\anaconda3\\lib\\site-packages\\keras\\legacy\\interfaces.py\u001b[0m in \u001b[0;36mwrapper\u001b[1;34m(*args, **kwargs)\u001b[0m\n\u001b[0;32m     89\u001b[0m                 warnings.warn('Update your `' + object_name + '` call to the ' +\n\u001b[0;32m     90\u001b[0m                               'Keras 2 API: ' + signature, stacklevel=2)\n\u001b[1;32m---> 91\u001b[1;33m             \u001b[1;32mreturn\u001b[0m \u001b[0mfunc\u001b[0m\u001b[1;33m(\u001b[0m\u001b[1;33m*\u001b[0m\u001b[0margs\u001b[0m\u001b[1;33m,\u001b[0m \u001b[1;33m**\u001b[0m\u001b[0mkwargs\u001b[0m\u001b[1;33m)\u001b[0m\u001b[1;33m\u001b[0m\u001b[1;33m\u001b[0m\u001b[0m\n\u001b[0m\u001b[0;32m     92\u001b[0m         \u001b[0mwrapper\u001b[0m\u001b[1;33m.\u001b[0m\u001b[0m_original_function\u001b[0m \u001b[1;33m=\u001b[0m \u001b[0mfunc\u001b[0m\u001b[1;33m\u001b[0m\u001b[1;33m\u001b[0m\u001b[0m\n\u001b[0;32m     93\u001b[0m         \u001b[1;32mreturn\u001b[0m \u001b[0mwrapper\u001b[0m\u001b[1;33m\u001b[0m\u001b[1;33m\u001b[0m\u001b[0m\n",
      "\u001b[1;32m~\\anaconda3\\lib\\site-packages\\keras\\engine\\training.py\u001b[0m in \u001b[0;36mfit_generator\u001b[1;34m(self, generator, steps_per_epoch, epochs, verbose, callbacks, validation_data, validation_steps, validation_freq, class_weight, max_queue_size, workers, use_multiprocessing, shuffle, initial_epoch)\u001b[0m\n\u001b[0;32m   1730\u001b[0m             \u001b[0muse_multiprocessing\u001b[0m\u001b[1;33m=\u001b[0m\u001b[0muse_multiprocessing\u001b[0m\u001b[1;33m,\u001b[0m\u001b[1;33m\u001b[0m\u001b[1;33m\u001b[0m\u001b[0m\n\u001b[0;32m   1731\u001b[0m             \u001b[0mshuffle\u001b[0m\u001b[1;33m=\u001b[0m\u001b[0mshuffle\u001b[0m\u001b[1;33m,\u001b[0m\u001b[1;33m\u001b[0m\u001b[1;33m\u001b[0m\u001b[0m\n\u001b[1;32m-> 1732\u001b[1;33m             initial_epoch=initial_epoch)\n\u001b[0m\u001b[0;32m   1733\u001b[0m \u001b[1;33m\u001b[0m\u001b[0m\n\u001b[0;32m   1734\u001b[0m     \u001b[1;33m@\u001b[0m\u001b[0minterfaces\u001b[0m\u001b[1;33m.\u001b[0m\u001b[0mlegacy_generator_methods_support\u001b[0m\u001b[1;33m\u001b[0m\u001b[1;33m\u001b[0m\u001b[0m\n",
      "\u001b[1;32m~\\anaconda3\\lib\\site-packages\\keras\\engine\\training_generator.py\u001b[0m in \u001b[0;36mfit_generator\u001b[1;34m(model, generator, steps_per_epoch, epochs, verbose, callbacks, validation_data, validation_steps, validation_freq, class_weight, max_queue_size, workers, use_multiprocessing, shuffle, initial_epoch)\u001b[0m\n\u001b[0;32m    218\u001b[0m                                             \u001b[0msample_weight\u001b[0m\u001b[1;33m=\u001b[0m\u001b[0msample_weight\u001b[0m\u001b[1;33m,\u001b[0m\u001b[1;33m\u001b[0m\u001b[1;33m\u001b[0m\u001b[0m\n\u001b[0;32m    219\u001b[0m                                             \u001b[0mclass_weight\u001b[0m\u001b[1;33m=\u001b[0m\u001b[0mclass_weight\u001b[0m\u001b[1;33m,\u001b[0m\u001b[1;33m\u001b[0m\u001b[1;33m\u001b[0m\u001b[0m\n\u001b[1;32m--> 220\u001b[1;33m                                             reset_metrics=False)\n\u001b[0m\u001b[0;32m    221\u001b[0m \u001b[1;33m\u001b[0m\u001b[0m\n\u001b[0;32m    222\u001b[0m                 \u001b[0mouts\u001b[0m \u001b[1;33m=\u001b[0m \u001b[0mto_list\u001b[0m\u001b[1;33m(\u001b[0m\u001b[0mouts\u001b[0m\u001b[1;33m)\u001b[0m\u001b[1;33m\u001b[0m\u001b[1;33m\u001b[0m\u001b[0m\n",
      "\u001b[1;32m~\\anaconda3\\lib\\site-packages\\keras\\engine\\training.py\u001b[0m in \u001b[0;36mtrain_on_batch\u001b[1;34m(self, x, y, sample_weight, class_weight, reset_metrics)\u001b[0m\n\u001b[0;32m   1512\u001b[0m             \u001b[0mins\u001b[0m \u001b[1;33m=\u001b[0m \u001b[0mx\u001b[0m \u001b[1;33m+\u001b[0m \u001b[0my\u001b[0m \u001b[1;33m+\u001b[0m \u001b[0msample_weights\u001b[0m\u001b[1;33m\u001b[0m\u001b[1;33m\u001b[0m\u001b[0m\n\u001b[0;32m   1513\u001b[0m         \u001b[0mself\u001b[0m\u001b[1;33m.\u001b[0m\u001b[0m_make_train_function\u001b[0m\u001b[1;33m(\u001b[0m\u001b[1;33m)\u001b[0m\u001b[1;33m\u001b[0m\u001b[1;33m\u001b[0m\u001b[0m\n\u001b[1;32m-> 1514\u001b[1;33m         \u001b[0moutputs\u001b[0m \u001b[1;33m=\u001b[0m \u001b[0mself\u001b[0m\u001b[1;33m.\u001b[0m\u001b[0mtrain_function\u001b[0m\u001b[1;33m(\u001b[0m\u001b[0mins\u001b[0m\u001b[1;33m)\u001b[0m\u001b[1;33m\u001b[0m\u001b[1;33m\u001b[0m\u001b[0m\n\u001b[0m\u001b[0;32m   1515\u001b[0m \u001b[1;33m\u001b[0m\u001b[0m\n\u001b[0;32m   1516\u001b[0m         \u001b[1;32mif\u001b[0m \u001b[0mreset_metrics\u001b[0m\u001b[1;33m:\u001b[0m\u001b[1;33m\u001b[0m\u001b[1;33m\u001b[0m\u001b[0m\n",
      "\u001b[1;32m~\\anaconda3\\lib\\site-packages\\tensorflow_core\\python\\keras\\backend.py\u001b[0m in \u001b[0;36m__call__\u001b[1;34m(self, inputs)\u001b[0m\n\u001b[0;32m   3725\u001b[0m         \u001b[0mvalue\u001b[0m \u001b[1;33m=\u001b[0m \u001b[0mmath_ops\u001b[0m\u001b[1;33m.\u001b[0m\u001b[0mcast\u001b[0m\u001b[1;33m(\u001b[0m\u001b[0mvalue\u001b[0m\u001b[1;33m,\u001b[0m \u001b[0mtensor\u001b[0m\u001b[1;33m.\u001b[0m\u001b[0mdtype\u001b[0m\u001b[1;33m)\u001b[0m\u001b[1;33m\u001b[0m\u001b[1;33m\u001b[0m\u001b[0m\n\u001b[0;32m   3726\u001b[0m       \u001b[0mconverted_inputs\u001b[0m\u001b[1;33m.\u001b[0m\u001b[0mappend\u001b[0m\u001b[1;33m(\u001b[0m\u001b[0mvalue\u001b[0m\u001b[1;33m)\u001b[0m\u001b[1;33m\u001b[0m\u001b[1;33m\u001b[0m\u001b[0m\n\u001b[1;32m-> 3727\u001b[1;33m     \u001b[0moutputs\u001b[0m \u001b[1;33m=\u001b[0m \u001b[0mself\u001b[0m\u001b[1;33m.\u001b[0m\u001b[0m_graph_fn\u001b[0m\u001b[1;33m(\u001b[0m\u001b[1;33m*\u001b[0m\u001b[0mconverted_inputs\u001b[0m\u001b[1;33m)\u001b[0m\u001b[1;33m\u001b[0m\u001b[1;33m\u001b[0m\u001b[0m\n\u001b[0m\u001b[0;32m   3728\u001b[0m \u001b[1;33m\u001b[0m\u001b[0m\n\u001b[0;32m   3729\u001b[0m     \u001b[1;31m# EagerTensor.numpy() will often make a copy to ensure memory safety.\u001b[0m\u001b[1;33m\u001b[0m\u001b[1;33m\u001b[0m\u001b[1;33m\u001b[0m\u001b[0m\n",
      "\u001b[1;32m~\\anaconda3\\lib\\site-packages\\tensorflow_core\\python\\eager\\function.py\u001b[0m in \u001b[0;36m__call__\u001b[1;34m(self, *args, **kwargs)\u001b[0m\n\u001b[0;32m   1549\u001b[0m       \u001b[0mTypeError\u001b[0m\u001b[1;33m:\u001b[0m \u001b[0mFor\u001b[0m \u001b[0minvalid\u001b[0m \u001b[0mpositional\u001b[0m\u001b[1;33m/\u001b[0m\u001b[0mkeyword\u001b[0m \u001b[0margument\u001b[0m \u001b[0mcombinations\u001b[0m\u001b[1;33m.\u001b[0m\u001b[1;33m\u001b[0m\u001b[1;33m\u001b[0m\u001b[0m\n\u001b[0;32m   1550\u001b[0m     \"\"\"\n\u001b[1;32m-> 1551\u001b[1;33m     \u001b[1;32mreturn\u001b[0m \u001b[0mself\u001b[0m\u001b[1;33m.\u001b[0m\u001b[0m_call_impl\u001b[0m\u001b[1;33m(\u001b[0m\u001b[0margs\u001b[0m\u001b[1;33m,\u001b[0m \u001b[0mkwargs\u001b[0m\u001b[1;33m)\u001b[0m\u001b[1;33m\u001b[0m\u001b[1;33m\u001b[0m\u001b[0m\n\u001b[0m\u001b[0;32m   1552\u001b[0m \u001b[1;33m\u001b[0m\u001b[0m\n\u001b[0;32m   1553\u001b[0m   \u001b[1;32mdef\u001b[0m \u001b[0m_call_impl\u001b[0m\u001b[1;33m(\u001b[0m\u001b[0mself\u001b[0m\u001b[1;33m,\u001b[0m \u001b[0margs\u001b[0m\u001b[1;33m,\u001b[0m \u001b[0mkwargs\u001b[0m\u001b[1;33m,\u001b[0m \u001b[0mcancellation_manager\u001b[0m\u001b[1;33m=\u001b[0m\u001b[1;32mNone\u001b[0m\u001b[1;33m)\u001b[0m\u001b[1;33m:\u001b[0m\u001b[1;33m\u001b[0m\u001b[1;33m\u001b[0m\u001b[0m\n",
      "\u001b[1;32m~\\anaconda3\\lib\\site-packages\\tensorflow_core\\python\\eager\\function.py\u001b[0m in \u001b[0;36m_call_impl\u001b[1;34m(self, args, kwargs, cancellation_manager)\u001b[0m\n\u001b[0;32m   1589\u001b[0m       raise TypeError(\"Keyword arguments {} unknown. Expected {}.\".format(\n\u001b[0;32m   1590\u001b[0m           list(kwargs.keys()), list(self._arg_keywords)))\n\u001b[1;32m-> 1591\u001b[1;33m     \u001b[1;32mreturn\u001b[0m \u001b[0mself\u001b[0m\u001b[1;33m.\u001b[0m\u001b[0m_call_flat\u001b[0m\u001b[1;33m(\u001b[0m\u001b[0margs\u001b[0m\u001b[1;33m,\u001b[0m \u001b[0mself\u001b[0m\u001b[1;33m.\u001b[0m\u001b[0mcaptured_inputs\u001b[0m\u001b[1;33m,\u001b[0m \u001b[0mcancellation_manager\u001b[0m\u001b[1;33m)\u001b[0m\u001b[1;33m\u001b[0m\u001b[1;33m\u001b[0m\u001b[0m\n\u001b[0m\u001b[0;32m   1592\u001b[0m \u001b[1;33m\u001b[0m\u001b[0m\n\u001b[0;32m   1593\u001b[0m   \u001b[1;32mdef\u001b[0m \u001b[0m_filtered_call\u001b[0m\u001b[1;33m(\u001b[0m\u001b[0mself\u001b[0m\u001b[1;33m,\u001b[0m \u001b[0margs\u001b[0m\u001b[1;33m,\u001b[0m \u001b[0mkwargs\u001b[0m\u001b[1;33m)\u001b[0m\u001b[1;33m:\u001b[0m\u001b[1;33m\u001b[0m\u001b[1;33m\u001b[0m\u001b[0m\n",
      "\u001b[1;32m~\\anaconda3\\lib\\site-packages\\tensorflow_core\\python\\eager\\function.py\u001b[0m in \u001b[0;36m_call_flat\u001b[1;34m(self, args, captured_inputs, cancellation_manager)\u001b[0m\n\u001b[0;32m   1690\u001b[0m       \u001b[1;31m# No tape is watching; skip to running the function.\u001b[0m\u001b[1;33m\u001b[0m\u001b[1;33m\u001b[0m\u001b[1;33m\u001b[0m\u001b[0m\n\u001b[0;32m   1691\u001b[0m       return self._build_call_outputs(self._inference_function.call(\n\u001b[1;32m-> 1692\u001b[1;33m           ctx, args, cancellation_manager=cancellation_manager))\n\u001b[0m\u001b[0;32m   1693\u001b[0m     forward_backward = self._select_forward_and_backward_functions(\n\u001b[0;32m   1694\u001b[0m         \u001b[0margs\u001b[0m\u001b[1;33m,\u001b[0m\u001b[1;33m\u001b[0m\u001b[1;33m\u001b[0m\u001b[0m\n",
      "\u001b[1;32m~\\anaconda3\\lib\\site-packages\\tensorflow_core\\python\\eager\\function.py\u001b[0m in \u001b[0;36mcall\u001b[1;34m(self, ctx, args, cancellation_manager)\u001b[0m\n\u001b[0;32m    543\u001b[0m               \u001b[0minputs\u001b[0m\u001b[1;33m=\u001b[0m\u001b[0margs\u001b[0m\u001b[1;33m,\u001b[0m\u001b[1;33m\u001b[0m\u001b[1;33m\u001b[0m\u001b[0m\n\u001b[0;32m    544\u001b[0m               \u001b[0mattrs\u001b[0m\u001b[1;33m=\u001b[0m\u001b[1;33m(\u001b[0m\u001b[1;34m\"executor_type\"\u001b[0m\u001b[1;33m,\u001b[0m \u001b[0mexecutor_type\u001b[0m\u001b[1;33m,\u001b[0m \u001b[1;34m\"config_proto\"\u001b[0m\u001b[1;33m,\u001b[0m \u001b[0mconfig\u001b[0m\u001b[1;33m)\u001b[0m\u001b[1;33m,\u001b[0m\u001b[1;33m\u001b[0m\u001b[1;33m\u001b[0m\u001b[0m\n\u001b[1;32m--> 545\u001b[1;33m               ctx=ctx)\n\u001b[0m\u001b[0;32m    546\u001b[0m         \u001b[1;32melse\u001b[0m\u001b[1;33m:\u001b[0m\u001b[1;33m\u001b[0m\u001b[1;33m\u001b[0m\u001b[0m\n\u001b[0;32m    547\u001b[0m           outputs = execute.execute_with_cancellation(\n",
      "\u001b[1;32m~\\anaconda3\\lib\\site-packages\\tensorflow_core\\python\\eager\\execute.py\u001b[0m in \u001b[0;36mquick_execute\u001b[1;34m(op_name, num_outputs, inputs, attrs, ctx, name)\u001b[0m\n\u001b[0;32m     59\u001b[0m     tensors = pywrap_tensorflow.TFE_Py_Execute(ctx._handle, device_name,\n\u001b[0;32m     60\u001b[0m                                                \u001b[0mop_name\u001b[0m\u001b[1;33m,\u001b[0m \u001b[0minputs\u001b[0m\u001b[1;33m,\u001b[0m \u001b[0mattrs\u001b[0m\u001b[1;33m,\u001b[0m\u001b[1;33m\u001b[0m\u001b[1;33m\u001b[0m\u001b[0m\n\u001b[1;32m---> 61\u001b[1;33m                                                num_outputs)\n\u001b[0m\u001b[0;32m     62\u001b[0m   \u001b[1;32mexcept\u001b[0m \u001b[0mcore\u001b[0m\u001b[1;33m.\u001b[0m\u001b[0m_NotOkStatusException\u001b[0m \u001b[1;32mas\u001b[0m \u001b[0me\u001b[0m\u001b[1;33m:\u001b[0m\u001b[1;33m\u001b[0m\u001b[1;33m\u001b[0m\u001b[0m\n\u001b[0;32m     63\u001b[0m     \u001b[1;32mif\u001b[0m \u001b[0mname\u001b[0m \u001b[1;32mis\u001b[0m \u001b[1;32mnot\u001b[0m \u001b[1;32mNone\u001b[0m\u001b[1;33m:\u001b[0m\u001b[1;33m\u001b[0m\u001b[1;33m\u001b[0m\u001b[0m\n",
      "\u001b[1;31mKeyboardInterrupt\u001b[0m: "
     ]
    }
   ],
   "source": [
    "history = model.fit_generator(train_generator,steps_per_epoch=100,epochs=100,\n",
    "                              validation_data=validation_generator,validation_steps=50)"
   ]
  },
  {
   "cell_type": "code",
   "execution_count": null,
   "metadata": {},
   "outputs": [],
   "source": [
    "model.save(\"cat_vs_dog_2.h5\")"
   ]
  },
  {
   "cell_type": "markdown",
   "metadata": {},
   "source": [
    "Loading VGG16 Model"
   ]
  },
  {
   "cell_type": "code",
   "execution_count": 19,
   "metadata": {},
   "outputs": [],
   "source": [
    "from keras.applications import VGG16\n",
    "conv_base=VGG16(weights=\"imagenet\",include_top=False,input_shape=(150,150,3))"
   ]
  },
  {
   "cell_type": "code",
   "execution_count": 20,
   "metadata": {
    "scrolled": true
   },
   "outputs": [
    {
     "name": "stdout",
     "output_type": "stream",
     "text": [
      "Model: \"vgg16\"\n",
      "_________________________________________________________________\n",
      "Layer (type)                 Output Shape              Param #   \n",
      "=================================================================\n",
      "input_1 (InputLayer)         (None, 150, 150, 3)       0         \n",
      "_________________________________________________________________\n",
      "block1_conv1 (Conv2D)        (None, 150, 150, 64)      1792      \n",
      "_________________________________________________________________\n",
      "block1_conv2 (Conv2D)        (None, 150, 150, 64)      36928     \n",
      "_________________________________________________________________\n",
      "block1_pool (MaxPooling2D)   (None, 75, 75, 64)        0         \n",
      "_________________________________________________________________\n",
      "block2_conv1 (Conv2D)        (None, 75, 75, 128)       73856     \n",
      "_________________________________________________________________\n",
      "block2_conv2 (Conv2D)        (None, 75, 75, 128)       147584    \n",
      "_________________________________________________________________\n",
      "block2_pool (MaxPooling2D)   (None, 37, 37, 128)       0         \n",
      "_________________________________________________________________\n",
      "block3_conv1 (Conv2D)        (None, 37, 37, 256)       295168    \n",
      "_________________________________________________________________\n",
      "block3_conv2 (Conv2D)        (None, 37, 37, 256)       590080    \n",
      "_________________________________________________________________\n",
      "block3_conv3 (Conv2D)        (None, 37, 37, 256)       590080    \n",
      "_________________________________________________________________\n",
      "block3_pool (MaxPooling2D)   (None, 18, 18, 256)       0         \n",
      "_________________________________________________________________\n",
      "block4_conv1 (Conv2D)        (None, 18, 18, 512)       1180160   \n",
      "_________________________________________________________________\n",
      "block4_conv2 (Conv2D)        (None, 18, 18, 512)       2359808   \n",
      "_________________________________________________________________\n",
      "block4_conv3 (Conv2D)        (None, 18, 18, 512)       2359808   \n",
      "_________________________________________________________________\n",
      "block4_pool (MaxPooling2D)   (None, 9, 9, 512)         0         \n",
      "_________________________________________________________________\n",
      "block5_conv1 (Conv2D)        (None, 9, 9, 512)         2359808   \n",
      "_________________________________________________________________\n",
      "block5_conv2 (Conv2D)        (None, 9, 9, 512)         2359808   \n",
      "_________________________________________________________________\n",
      "block5_conv3 (Conv2D)        (None, 9, 9, 512)         2359808   \n",
      "_________________________________________________________________\n",
      "block5_pool (MaxPooling2D)   (None, 4, 4, 512)         0         \n",
      "=================================================================\n",
      "Total params: 14,714,688\n",
      "Trainable params: 14,714,688\n",
      "Non-trainable params: 0\n",
      "_________________________________________________________________\n"
     ]
    }
   ],
   "source": [
    "conv_base.summary()"
   ]
  },
  {
   "cell_type": "code",
   "execution_count": 21,
   "metadata": {},
   "outputs": [],
   "source": [
    "from keras.preprocessing.image import ImageDataGenerator\n",
    "import numpy as np\n",
    "datagen=ImageDataGenerator(rescale=1./255)\n",
    "batch_size=30"
   ]
  },
  {
   "cell_type": "code",
   "execution_count": 22,
   "metadata": {},
   "outputs": [],
   "source": [
    "def extract_features(directory,sample_count):\n",
    "    features=np.zeros(shape=(sample_count,4,4,512))\n",
    "    labels=np.zeros(shape=(sample_count))\n",
    "    generator = datagen.flow_from_directory(directory,target_size=(150, 150),\n",
    "                                            batch_size=batch_size,class_mode='binary')\n",
    "    i=0\n",
    "    for inputs_batch, labels_batch in generator:\n",
    "        features_batch = conv_base.predict(inputs_batch)\n",
    "        features[i * batch_size : (i + 1) * batch_size] = features_batch\n",
    "        labels[i * batch_size : (i + 1) * batch_size] = labels_batch\n",
    "        i+=1\n",
    "        if i * batch_size >= sample_count:\n",
    "            break\n",
    "    return features, labels\n",
    "    "
   ]
  },
  {
   "cell_type": "code",
   "execution_count": 23,
   "metadata": {},
   "outputs": [
    {
     "name": "stdout",
     "output_type": "stream",
     "text": [
      "Found 2000 images belonging to 2 classes.\n",
      "Found 1000 images belonging to 2 classes.\n"
     ]
    }
   ],
   "source": [
    "train_features, train_labels = extract_features(train_dir, 2000)\n",
    "validation_features, validation_labels = extract_features(val_dir, 1000)"
   ]
  },
  {
   "cell_type": "code",
   "execution_count": 24,
   "metadata": {},
   "outputs": [],
   "source": [
    "dense_model=models.Sequential()\n",
    "dense_model.add(layers.Dense(256,input_dim=4*4*512,activation='relu'))\n",
    "dense_model.add(layers.Dropout(0.5))\n",
    "dense_model.add(layers.Dense(1,activation='sigmoid'))\n",
    "dense_model.compile(optimizer='rmsprop',loss='binary_crossentropy',metrics=['accuracy'])"
   ]
  },
  {
   "cell_type": "code",
   "execution_count": 25,
   "metadata": {},
   "outputs": [],
   "source": [
    "train_features = np.reshape(train_features, (2000,4*4*512))\n",
    "validation_features = np.reshape(validation_features, (1000,4*4*512))"
   ]
  },
  {
   "cell_type": "code",
   "execution_count": 26,
   "metadata": {},
   "outputs": [
    {
     "name": "stdout",
     "output_type": "stream",
     "text": [
      "Train on 2000 samples, validate on 1000 samples\n",
      "Epoch 1/30\n",
      "2000/2000 [==============================] - 4s 2ms/step - loss: 0.7379 - accuracy: 0.7650 - val_loss: 0.3424 - val_accuracy: 0.8450\n",
      "Epoch 2/30\n",
      "2000/2000 [==============================] - 3s 2ms/step - loss: 0.3608 - accuracy: 0.8495 - val_loss: 0.2798 - val_accuracy: 0.8730\n",
      "Epoch 3/30\n",
      "2000/2000 [==============================] - 4s 2ms/step - loss: 0.3173 - accuracy: 0.8795 - val_loss: 0.2677 - val_accuracy: 0.8900\n",
      "Epoch 4/30\n",
      "2000/2000 [==============================] - 3s 2ms/step - loss: 0.2574 - accuracy: 0.8880 - val_loss: 0.3678 - val_accuracy: 0.8750\n",
      "Epoch 5/30\n",
      "2000/2000 [==============================] - 3s 2ms/step - loss: 0.2233 - accuracy: 0.9120 - val_loss: 0.2989 - val_accuracy: 0.8910\n",
      "Epoch 6/30\n",
      "2000/2000 [==============================] - 3s 2ms/step - loss: 0.2044 - accuracy: 0.9175 - val_loss: 0.2701 - val_accuracy: 0.8940\n",
      "Epoch 7/30\n",
      "2000/2000 [==============================] - 3s 2ms/step - loss: 0.1822 - accuracy: 0.9280 - val_loss: 0.4185 - val_accuracy: 0.8860\n",
      "Epoch 8/30\n",
      "2000/2000 [==============================] - 3s 2ms/step - loss: 0.1540 - accuracy: 0.9425 - val_loss: 0.3193 - val_accuracy: 0.9020\n",
      "Epoch 9/30\n",
      "2000/2000 [==============================] - 3s 2ms/step - loss: 0.1382 - accuracy: 0.9465 - val_loss: 0.3807 - val_accuracy: 0.8980\n",
      "Epoch 10/30\n",
      "2000/2000 [==============================] - 3s 2ms/step - loss: 0.1302 - accuracy: 0.9525 - val_loss: 0.3506 - val_accuracy: 0.9030\n",
      "Epoch 11/30\n",
      "2000/2000 [==============================] - 3s 2ms/step - loss: 0.1149 - accuracy: 0.9565 - val_loss: 0.4972 - val_accuracy: 0.8710\n",
      "Epoch 12/30\n",
      "2000/2000 [==============================] - 3s 2ms/step - loss: 0.0993 - accuracy: 0.9620 - val_loss: 0.4274 - val_accuracy: 0.8920\n",
      "Epoch 13/30\n",
      "2000/2000 [==============================] - 3s 2ms/step - loss: 0.0902 - accuracy: 0.9635 - val_loss: 0.4738 - val_accuracy: 0.8870\n",
      "Epoch 14/30\n",
      "2000/2000 [==============================] - 3s 2ms/step - loss: 0.0838 - accuracy: 0.9680 - val_loss: 0.4575 - val_accuracy: 0.9020\n",
      "Epoch 15/30\n",
      "2000/2000 [==============================] - 4s 2ms/step - loss: 0.0648 - accuracy: 0.9785 - val_loss: 0.4490 - val_accuracy: 0.8920\n",
      "Epoch 16/30\n",
      "2000/2000 [==============================] - 3s 2ms/step - loss: 0.0640 - accuracy: 0.9780 - val_loss: 1.0678 - val_accuracy: 0.8030\n",
      "Epoch 17/30\n",
      "2000/2000 [==============================] - 3s 2ms/step - loss: 0.0531 - accuracy: 0.9805 - val_loss: 0.6361 - val_accuracy: 0.8790\n",
      "Epoch 18/30\n",
      "2000/2000 [==============================] - 4s 2ms/step - loss: 0.0488 - accuracy: 0.9820 - val_loss: 0.5722 - val_accuracy: 0.8980\n",
      "Epoch 19/30\n",
      "2000/2000 [==============================] - 4s 2ms/step - loss: 0.0298 - accuracy: 0.9875 - val_loss: 0.5692 - val_accuracy: 0.8930\n",
      "Epoch 20/30\n",
      "2000/2000 [==============================] - 4s 2ms/step - loss: 0.0611 - accuracy: 0.9790 - val_loss: 0.6045 - val_accuracy: 0.8950\n",
      "Epoch 21/30\n",
      "2000/2000 [==============================] - 3s 2ms/step - loss: 0.0368 - accuracy: 0.9875 - val_loss: 0.9421 - val_accuracy: 0.8550\n",
      "Epoch 22/30\n",
      "2000/2000 [==============================] - 3s 2ms/step - loss: 0.0543 - accuracy: 0.9860 - val_loss: 0.7509 - val_accuracy: 0.8750\n",
      "Epoch 23/30\n",
      "2000/2000 [==============================] - 3s 2ms/step - loss: 0.0384 - accuracy: 0.9870 - val_loss: 0.6488 - val_accuracy: 0.8890\n",
      "Epoch 24/30\n",
      "2000/2000 [==============================] - 3s 2ms/step - loss: 0.0417 - accuracy: 0.9855 - val_loss: 0.6979 - val_accuracy: 0.9000\n",
      "Epoch 25/30\n",
      "2000/2000 [==============================] - 3s 2ms/step - loss: 0.0183 - accuracy: 0.9940 - val_loss: 0.7908 - val_accuracy: 0.8850\n",
      "Epoch 26/30\n",
      "2000/2000 [==============================] - 3s 2ms/step - loss: 0.0336 - accuracy: 0.9900 - val_loss: 0.7128 - val_accuracy: 0.9000\n",
      "Epoch 27/30\n",
      "2000/2000 [==============================] - 3s 2ms/step - loss: 0.0187 - accuracy: 0.9950 - val_loss: 0.6905 - val_accuracy: 0.8980\n",
      "Epoch 28/30\n",
      "2000/2000 [==============================] - 3s 2ms/step - loss: 0.0241 - accuracy: 0.9900 - val_loss: 0.8221 - val_accuracy: 0.8970\n",
      "Epoch 29/30\n",
      "2000/2000 [==============================] - 3s 2ms/step - loss: 0.0229 - accuracy: 0.9910 - val_loss: 0.8319 - val_accuracy: 0.8910\n",
      "Epoch 30/30\n",
      "2000/2000 [==============================] - 3s 2ms/step - loss: 0.0240 - accuracy: 0.9925 - val_loss: 1.1453 - val_accuracy: 0.8620\n"
     ]
    }
   ],
   "source": [
    "history_dense=dense_model.fit(train_features,train_labels,epochs=30,batch_size=20,\n",
    "                              validation_data=(validation_features,validation_labels))"
   ]
  },
  {
   "cell_type": "code",
   "execution_count": 27,
   "metadata": {},
   "outputs": [
    {
     "data": {
      "text/plain": [
       "dict_keys(['val_loss', 'val_accuracy', 'loss', 'accuracy'])"
      ]
     },
     "execution_count": 27,
     "metadata": {},
     "output_type": "execute_result"
    }
   ],
   "source": [
    "history_dense.history.keys()"
   ]
  },
  {
   "cell_type": "code",
   "execution_count": 28,
   "metadata": {},
   "outputs": [],
   "source": [
    "def acc_loss_graphs(history,n):\n",
    "    acc=history.history['accuracy']\n",
    "    val_acc=history.history['val_accuracy']\n",
    "    epochs=range(1,n+1)\n",
    "    plt.plot(epochs,acc,label=\"Training accuracy\")\n",
    "    plt.plot(epochs,val_acc,label=\"validation accuracy\")\n",
    "    plt.legend()\n",
    "    plt.figure()\n",
    "    loss=history.history['loss']\n",
    "    val_loss=history.history['val_loss']\n",
    "    plt.plot(epochs,loss,label=\"Training loss\")\n",
    "    plt.plot(epochs,val_loss,label=\"validation loss\")\n",
    "    plt.legend()\n",
    "    plt.show()"
   ]
  },
  {
   "cell_type": "code",
   "execution_count": 29,
   "metadata": {},
   "outputs": [],
   "source": [
    "import matplotlib.pyplot as plt"
   ]
  },
  {
   "cell_type": "code",
   "execution_count": 30,
   "metadata": {},
   "outputs": [
    {
     "data": {
      "image/png": "[encoded data removed]",
      "text/plain": [
       "<Figure size 432x288 with 1 Axes>"
      ]
     },
     "metadata": {
      "needs_background": "light"
     },
     "output_type": "display_data"
    },
    {
     "data": {
      "image/png": "[encoded data removed]",
      "text/plain": [
       "<Figure size 432x288 with 1 Axes>"
      ]
     },
     "metadata": {
      "needs_background": "light"
     },
     "output_type": "display_data"
    }
   ],
   "source": [
    "acc_loss_graphs(history_dense,30)"
   ]
  },
  {
   "cell_type": "code",
   "execution_count": 31,
   "metadata": {},
   "outputs": [],
   "source": [
    "conv_base.trainable=False"
   ]
  },
  {
   "cell_type": "code",
   "execution_count": 32,
   "metadata": {},
   "outputs": [],
   "source": [
    "aug_model=models.Sequential()\n",
    "aug_model.add(conv_base)\n",
    "aug_model.add(layers.Flatten())\n",
    "aug_model.add(layers.Dense(256,activation='relu'))\n",
    "aug_model.add(layers.Dense(1,activation='sigmoid'))\n",
    "aug_model.compile(optimizer='rmsprop',loss='binary_crossentropy',metrics=['accuracy'])"
   ]
  },
  {
   "cell_type": "markdown",
   "metadata": {},
   "source": [
    "# Please train model only on GPU"
   ]
  },
  {
   "cell_type": "code",
   "execution_count": null,
   "metadata": {
    "scrolled": true
   },
   "outputs": [],
   "source": [
    "history_aug=aug_model.fit(train_generator,steps_per_epoch=100,epochs=30,\n",
    "                              validation_data=test_generator,validation_steps=50)"
   ]
  },
  {
   "cell_type": "code",
   "execution_count": null,
   "metadata": {},
   "outputs": [],
   "source": []
  }
 ],
 "metadata": {
  "kernelspec": {
   "display_name": "Python 3",
   "language": "python",
   "name": "python3"
  },
  "language_info": {
   "codemirror_mode": {
    "name": "ipython",
    "version": 3
   },
   "file_extension": ".py",
   "mimetype": "text/x-python",
   "name": "python",
   "nbconvert_exporter": "python",
   "pygments_lexer": "ipython3",
   "version": "3.7.6"
  }
 },
 "nbformat": 4,
 "nbformat_minor": 2
}
